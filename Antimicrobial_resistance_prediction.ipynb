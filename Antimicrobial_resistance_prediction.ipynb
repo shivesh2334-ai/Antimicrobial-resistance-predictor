{
  "cells": [
    {
      "cell_type": "markdown",
      "metadata": {
        "id": "view-in-github",
        "colab_type": "text"
      },
      "source": [
        "<a href=\"https://colab.research.google.com/github/shivesh2334-ai/Antimicrobial-resistance-predictor/blob/main/Antimicrobial_resistance_prediction.ipynb\" target=\"_parent\"><img src=\"https://colab.research.google.com/assets/colab-badge.svg\" alt=\"Open In Colab\"/></a>"
      ]
    },
    {
      "cell_type": "markdown",
      "metadata": {
        "id": "MzedX4s3rbYh"
      },
      "source": [
        "#Resistance prediction workflow using scikit-learn and XGBoost:"
      ]
    },
    {
      "cell_type": "markdown",
      "metadata": {
        "id": "C2VEuAqyrezv"
      },
      "source": [
        "## Step 1: Generate Dummy Data"
      ]
    },
    {
      "cell_type": "code",
      "execution_count": null,
      "metadata": {
        "id": "f8z4Hp8mq_eP"
      },
      "outputs": [],
      "source": [
        "import pandas as pd\n",
        "import numpy as np\n",
        "from sklearn.model_selection import train_test_split\n",
        "from sklearn.preprocessing import OneHotEncoder\n",
        "from sklearn.metrics import roc_auc_score, f1_score, matthews_corrcoef\n",
        "from xgboost import XGBClassifier\n",
        "\n",
        "# Set seed for reproducibility\n",
        "np.random.seed(42)\n",
        "\n",
        "n = 1000  # sample size\n",
        "species = ['E. coli', 'Klebsiella spp.', 'Proteus spp.', 'Pseudomonas spp.', 'Acinetobacter spp.']\n",
        "diseases = ['CHF', 'CKD', 'Tumor', 'Diabetes']\n",
        "\n",
        "# Synthetic data\n",
        "df = pd.DataFrame({\n",
        "    'Age': np.random.randint(18, 90, n),\n",
        "    'Gender': np.random.choice(['Male', 'Female'], n),\n",
        "    'Species': np.random.choice(species, n),\n",
        "    'Rectal_CPE_Pos': np.random.choice([0, 1], n, p=[0.7, 0.3]),\n",
        "    'Setting': np.random.choice(['ICU', 'Internal Medicine'], n),\n",
        "    'Acquisition': np.random.choice(['Community', 'Hospital'], n),\n",
        "    'BSI_Source': np.random.choice(['Primary', 'Lung', 'Abdomen', 'UTI'], n),\n",
        "    'CHF': np.random.choice([0, 1], n),\n",
        "    'CKD': np.random.choice([0, 1], n),\n",
        "    'Tumor': np.random.choice([0, 1], n),\n",
        "    'Diabetes': np.random.choice([0, 1], n),\n",
        "    'Immunosuppressed': np.random.choice([0, 1], n)\n",
        "})\n",
        "\n",
        "# Simulated resistance labels (you can add different rules here)\n",
        "df['CR'] = ((df['Species'] == 'Klebsiella spp.') & (df['Rectal_CPE_Pos'] == 1)).astype(int)\n",
        "df['BLBLI_R'] = ((df['Species'] == 'Pseudomonas spp.') | (df['CKD'] == 1)).astype(int)\n",
        "df['FQR'] = ((df['Rectal_CPE_Pos'] == 1) & (df['Immunosuppressed'] == 1)).astype(int)\n",
        "df['3GC_R'] = (df['Age'] > 65).astype(int)"
      ]
    },
    {
      "cell_type": "code",
      "execution_count": null,
      "metadata": {
        "id": "MqW_jI0E0FcW",
        "collapsed": true
      },
      "outputs": [],
      "source": [
        "# Display with better formatting (optional)\n",
        "df.head(10).style.set_caption(\"Sample Rows from Resistance Prediction Dataset\").set_table_styles(\n",
        "    [{'selector': 'th', 'props': [('background-color', '#f2f2f2'), ('font-weight', 'bold')]}]\n",
        ")"
      ]
    },
    {
      "cell_type": "code",
      "execution_count": null,
      "metadata": {
        "id": "549Z_fetr4FK"
      },
      "outputs": [],
      "source": [
        "# One-hot encode categorical variables\n",
        "X = df.drop(columns=['CR', 'BLBLI_R', 'FQR', '3GC_R'])\n",
        "y_vars = ['CR', 'BLBLI_R', 'FQR', '3GC_R']\n",
        "\n",
        "X_encoded = pd.get_dummies(X, drop_first=True)\n",
        "\n",
        "results = {}\n",
        "\n",
        "for y_col in y_vars:\n",
        "    y = df[y_col]\n",
        "    X_train, X_test, y_train, y_test = train_test_split(X_encoded, y, test_size=0.2, stratify=y)\n",
        "\n",
        "    model = XGBClassifier(use_label_encoder=False, eval_metric='logloss')\n",
        "    model.fit(X_train, y_train)\n",
        "\n",
        "    preds = model.predict(X_test)\n",
        "    probs = model.predict_proba(X_test)[:, 1]\n",
        "\n",
        "    results[y_col] = {\n",
        "        'AUROC': roc_auc_score(y_test, probs),\n",
        "        'F1-score': f1_score(y_test, preds),\n",
        "        'MCC': matthews_corrcoef(y_test, preds)\n",
        "    }"
      ]
    },
    {
      "cell_type": "code",
      "execution_count": null,
      "metadata": {
        "id": "Wu3Op5ozsC5K"
      },
      "outputs": [],
      "source": [
        "results_df = pd.DataFrame(results).T\n",
        "print(results_df.round(3))"
      ]
    },
    {
      "cell_type": "code",
      "execution_count": null,
      "metadata": {
        "id": "sHPBKPmQ4Lnb"
      },
      "outputs": [],
      "source": [
        "from sklearn.model_selection import train_test_split, StratifiedKFold, cross_validate\n",
        "from sklearn.preprocessing import StandardScaler, OneHotEncoder\n",
        "from sklearn.compose import ColumnTransformer\n",
        "from sklearn.pipeline import Pipeline\n",
        "from sklearn.linear_model import LogisticRegression\n",
        "from sklearn.ensemble import RandomForestClassifier\n",
        "from sklearn.metrics import make_scorer, roc_auc_score, f1_score, matthews_corrcoef\n",
        "import numpy as np\n",
        "import pandas as pd\n",
        "\n",
        "# --- Assume df is already created as before ---\n",
        "y_column = 'CR'  # You can loop over ['CR', 'FQR', '3GC_R', 'BLBLI_R']\n",
        "y = df[y_column]\n",
        "X = df.drop(columns=['CR', 'FQR', '3GC_R', 'BLBLI_R'])\n",
        "\n",
        "# --- Define Column Types ---\n",
        "categorical = X.select_dtypes(include='object').columns.tolist()\n",
        "numerical = X.select_dtypes(include=['int', 'float']).columns.tolist()\n",
        "\n",
        "# --- Preprocessing Steps ---\n",
        "preprocessor = ColumnTransformer([\n",
        "    ('num', StandardScaler(), numerical),\n",
        "    ('cat', OneHotEncoder(handle_unknown='ignore'), categorical)\n",
        "])\n",
        "\n",
        "# --- Models ---\n",
        "models = {\n",
        "    'LogisticRegression': LogisticRegression(max_iter=1000),\n",
        "    'RandomForest': RandomForestClassifier(n_estimators=100, random_state=42)\n",
        "}\n",
        "\n",
        "# --- Scoring Functions ---\n",
        "scoring = {\n",
        "    'AUROC': 'roc_auc',\n",
        "    'F1': make_scorer(f1_score),\n",
        "    'MCC': make_scorer(matthews_corrcoef)\n",
        "}\n",
        "\n",
        "# --- Evaluation using Cross-Validation ---\n",
        "results = {}\n",
        "\n",
        "for name, model in models.items():\n",
        "    pipeline = Pipeline([\n",
        "        ('preprocessor', preprocessor),\n",
        "        ('classifier', model)\n",
        "    ])\n",
        "\n",
        "    cv = StratifiedKFold(n_splits=5, shuffle=True, random_state=42)\n",
        "    scores = cross_validate(pipeline, X, y, cv=cv, scoring=scoring)\n",
        "\n",
        "    results[name] = {\n",
        "        'AUROC': np.mean(scores['test_AUROC']),\n",
        "        'F1': np.mean(scores['test_F1']),\n",
        "        'MCC': np.mean(scores['test_MCC'])\n",
        "    }\n",
        "\n",
        "# --- Results Summary ---\n",
        "results_df = pd.DataFrame(results).T.round(3)\n",
        "print(\"📊 Model Performance on Predicting\", y_column)\n",
        "print(results_df)"
      ]
    },
    {
      "cell_type": "code",
      "execution_count": null,
      "metadata": {
        "id": "-CsCyqQC-P1X"
      },
      "outputs": [],
      "source": [
        "from sklearn.model_selection import StratifiedKFold, GridSearchCV, cross_val_score\n",
        "from sklearn.pipeline import Pipeline\n",
        "from sklearn.linear_model import LogisticRegression\n",
        "from sklearn.ensemble import RandomForestClassifier\n",
        "from sklearn.preprocessing import StandardScaler, OneHotEncoder\n",
        "from sklearn.compose import ColumnTransformer\n",
        "from sklearn.metrics import make_scorer, roc_auc_score, f1_score, matthews_corrcoef\n",
        "import numpy as np\n",
        "import pandas as pd\n",
        "\n",
        "# Setup scoring\n",
        "scoring = {\n",
        "    'AUROC': 'roc_auc',\n",
        "    'F1': make_scorer(f1_score),\n",
        "    'MCC': make_scorer(matthews_corrcoef)\n",
        "}\n",
        "\n",
        "# Prep features\n",
        "y_targets = ['CR', 'FQR', '3GC_R', 'BLBLI_R']\n",
        "X = df.drop(columns=y_targets)\n",
        "categorical = X.select_dtypes(include='object').columns.tolist()\n",
        "numerical = X.select_dtypes(include=['int', 'float']).columns.tolist()\n",
        "\n",
        "preprocessor = ColumnTransformer([\n",
        "    ('num', StandardScaler(), numerical),\n",
        "    ('cat', OneHotEncoder(handle_unknown='ignore'), categorical)\n",
        "])\n",
        "\n",
        "# Define models and parameter grids\n",
        "model_grids = {\n",
        "    'LogisticRegression': (\n",
        "        LogisticRegression(max_iter=1000),\n",
        "        {'classifier__C': [0.01, 0.1, 1, 10]}\n",
        "    ),\n",
        "    'RandomForest': (\n",
        "        RandomForestClassifier(random_state=42),\n",
        "        {'classifier__n_estimators': [100, 200], 'classifier__max_depth': [5, 10, None]}\n",
        "    )\n",
        "}\n",
        "\n",
        "outer_cv = StratifiedKFold(n_splits=5, shuffle=True, random_state=42)\n",
        "\n",
        "nested_results = {}\n",
        "\n",
        "# Loop over each label\n",
        "for label in y_targets:\n",
        "    y = df[label]\n",
        "    nested_results[label] = {}\n",
        "\n",
        "    for name, (model, param_grid) in model_grids.items():\n",
        "        pipeline = Pipeline([\n",
        "            ('preprocessor', preprocessor),\n",
        "            ('classifier', model)\n",
        "        ])\n",
        "\n",
        "        grid = GridSearchCV(pipeline, param_grid=param_grid, scoring='roc_auc', cv=3)\n",
        "        scores = cross_val_score(grid, X, y, cv=outer_cv, scoring='roc_auc')\n",
        "\n",
        "        nested_results[label][name] = {\n",
        "            'Mean AUROC': round(np.mean(scores), 3),\n",
        "            'Std Dev': round(np.std(scores), 3)\n",
        "        }"
      ]
    },
    {
      "cell_type": "code",
      "execution_count": null,
      "metadata": {
        "id": "I4Tz5ug74jwZ"
      },
      "outputs": [],
      "source": [
        "# The following code was moved to the previous cell to fix the NameError:\n",
        "# from sklearn.model_selection import StratifiedKFold, GridSearchCV, cross_val_score\n",
        "# from sklearn.pipeline import Pipeline\n",
        "# from sklearn.linear_model import LogisticRegression\n",
        "# from sklearn.ensemble import RandomForestClassifier\n",
        "# from sklearn.preprocessing import StandardScaler, OneHotEncoder\n",
        "# from sklearn.compose import ColumnTransformer\n",
        "# from sklearn.metrics import make_scorer, roc_auc_score, f1_score, matthews_corrcoef\n",
        "# import numpy as np\n",
        "# import pandas as pd\n",
        "\n",
        "# # Setup scoring\n",
        "# scoring = {\n",
        "#     'AUROC': 'roc_auc',\n",
        "#     'F1': make_scorer(f1_score),\n",
        "#     'MCC': make_scorer(matthews_corrcoef)\n",
        "# }\n",
        "\n",
        "# # Prep features\n",
        "# y_targets = ['CR', 'FQR', '3GC_R', 'BLBLI_R']\n",
        "# X = df.drop(columns=y_targets)\n",
        "# categorical = X.select_dtypes(include='object').columns.tolist()\n",
        "# numerical = X.select_dtypes(include=['int', 'float']).columns.tolist()\n",
        "\n",
        "# preprocessor = ColumnTransformer([\n",
        "#     ('num', StandardScaler(), numerical),\n",
        "#     ('cat', OneHotEncoder(handle_unknown='ignore'), categorical)\n",
        "# ])\n",
        "\n",
        "# # Define models and parameter grids\n",
        "# model_grids = {\n",
        "#     'LogisticRegression': (\n",
        "#         LogisticRegression(max_iter=1000),\n",
        "#         {'classifier__C': [0.01, 0.1, 1, 10]}\n",
        "#     ),\n",
        "#     'RandomForest': (\n",
        "#         RandomForestClassifier(random_state=42),\n",
        "#         {'classifier__n_estimators': [100, 200], 'classifier__max_depth': [5, 10, None]}\n",
        "#     )\n",
        "# }\n",
        "\n",
        "# outer_cv = StratifiedKFold(n_splits=5, shuffle=True, random_state=42)\n",
        "nested_results"
      ]
    },
    {
      "cell_type": "code",
      "execution_count": null,
      "metadata": {
        "colab": {
          "background_save": true,
          "base_uri": "https://localhost:8080/",
          "height": 646
        },
        "id": "ljerIRdt2378",
        "outputId": "8a7b0981-e1a0-408b-d439-5b124d5a7301"
      },
      "outputs": [
        {
          "name": "stdout",
          "output_type": "stream",
          "text": [
            "It looks like you are running Gradio on a hosted Jupyter notebook, which requires `share=True`. Automatically setting `share=True` (you can turn this off by setting `share=False` in `launch()` explicitly).\n",
            "\n",
            "Colab notebook detected. This cell will run indefinitely so that you can see errors and logs. To turn off, set debug=False in launch().\n",
            "* Running on public URL: https://3dae9ad9f7bf1dda8b.gradio.live\n",
            "\n",
            "This share link expires in 1 week. For free permanent hosting and GPU upgrades, run `gradio deploy` from the terminal in the working directory to deploy to Hugging Face Spaces (https://huggingface.co/spaces)\n"
          ]
        },
        {
          "data": {
            "text/html": [
              "<div><iframe src=\"https://3dae9ad9f7bf1dda8b.gradio.live\" width=\"100%\" height=\"500\" allow=\"autoplay; camera; microphone; clipboard-read; clipboard-write;\" frameborder=\"0\" allowfullscreen></iframe></div>"
            ],
            "text/plain": [
              "<IPython.core.display.HTML object>"
            ]
          },
          "metadata": {},
          "output_type": "display_data"
        }
      ],
      "source": [
        "!pip install -q gradio\n",
        "\n",
        "import gradio as gr\n",
        "import pandas as pd\n",
        "import numpy as np\n",
        "\n",
        "# Assuming 'nested_results', 'preprocessor', and 'model_grids' are available from previous cells\n",
        "\n",
        "# We need to retrain the models on the full dataset for deployment in the Gradio app\n",
        "# This is because cross-validation trains models on subsets of the data.\n",
        "trained_models = {}\n",
        "for label in y_targets:\n",
        "    y = df[label]\n",
        "    for name, (model, param_grid) in model_grids.items():\n",
        "        pipeline = Pipeline([\n",
        "            ('preprocessor', preprocessor),\n",
        "            ('classifier', model)\n",
        "        ])\n",
        "        # Train the best model found during GridSearchCV on the full data\n",
        "        # For simplicity, we'll just use the model with default parameters here,\n",
        "        # but in a real scenario, you would use the best parameters from GridSearchCV\n",
        "        pipeline.fit(X, y)\n",
        "        trained_models[f'{label}_{name}'] = pipeline\n",
        "\n",
        "\n",
        "def predict_resistance(age, gender, species, rectal_cpe_pos, setting, acquisition, bsi_source, chf, ckd, tumor, diabetes, immunosuppressed):\n",
        "    # Create a pandas DataFrame from the input data\n",
        "    input_data = pd.DataFrame({\n",
        "        'Age': [age],\n",
        "        'Gender': [gender],\n",
        "        'Species': [species],\n",
        "        'Rectal_CPE_Pos': [rectal_cpe_pos],\n",
        "        'Setting': [setting],\n",
        "        'Acquisition': [acquisition],\n",
        "        'BSI_Source': [bsi_source],\n",
        "        'CHF': [chf],\n",
        "        'CKD': [ckd],\n",
        "        'Tumor': [tumor],\n",
        "        'Diabetes': [diabetes],\n",
        "        'Immunosuppressed': [immunosuppressed]\n",
        "    })\n",
        "\n",
        "    predictions = {}\n",
        "    for label in y_targets:\n",
        "        for name, model in model_grids.items():\n",
        "             # Use the trained model for prediction\n",
        "            pred = trained_models[f'{label}_{name}'].predict(input_data)[0]\n",
        "            predictions[f'{label}_{name}'] = \"Resistant\" if pred == 1 else \"Sensitive\"\n",
        "\n",
        "\n",
        "    # Format the output\n",
        "    output_string = \"Resistance Predictions:\\n\"\n",
        "    for label_name, prediction in predictions.items():\n",
        "        output_string += f\"- {label_name}: {prediction}\\n\"\n",
        "\n",
        "    return output_string\n",
        "\n",
        "# Get unique values for dropdowns from the original dataframe\n",
        "gender_choices = df['Gender'].unique().tolist()\n",
        "species_choices = df['Species'].unique().tolist()\n",
        "setting_choices = df['Setting'].unique().tolist()\n",
        "acquisition_choices = df['Acquisition'].unique().tolist()\n",
        "bsi_source_choices = df['BSI_Source'].unique().tolist()\n",
        "\n",
        "# Create the Gradio interface\n",
        "interface = gr.Interface(\n",
        "    fn=predict_resistance,\n",
        "    inputs=[\n",
        "        gr.Slider(minimum=18, maximum=90, step=1, label=\"Age\"),\n",
        "        gr.Dropdown(choices=gender_choices, label=\"Gender\"),\n",
        "        gr.Dropdown(choices=species_choices, label=\"Species\"),\n",
        "        gr.Radio(choices=[0, 1], label=\"Rectal CPE Pos\"),\n",
        "        gr.Dropdown(choices=setting_choices, label=\"Setting\"),\n",
        "        gr.Dropdown(choices=acquisition_choices, label=\"Acquisition\"),\n",
        "        gr.Dropdown(choices=bsi_source_choices, label=\"BSI Source\"),\n",
        "        gr.Radio(choices=[0, 1], label=\"CHF\"),\n",
        "        gr.Radio(choices=[0, 1], label=\"CKD\"),\n",
        "        gr.Radio(choices=[0, 1], label=\"Tumor\"),\n",
        "        gr.Radio(choices=[0, 1], label=\"Diabetes\"),\n",
        "        gr.Radio(choices=[0, 1], label=\"Immunosuppressed\")\n",
        "    ],\n",
        "    outputs=\"text\",\n",
        "    title=\"Antibiotic Resistance Prediction\",\n",
        "    description=\"Enter patient data to predict antibiotic resistance.\"\n",
        ")\n",
        "\n",
        "# Launch the interface\n",
        "interface.launch(debug=True)"
      ]
    }
  ],
  "metadata": {
    "colab": {
      "provenance": [],
      "authorship_tag": "ABX9TyNATVJgejbABF6Lg7ms9uzU",
      "include_colab_link": true
    },
    "kernelspec": {
      "display_name": "Python 3",
      "name": "python3"
    },
    "language_info": {
      "name": "python"
    }
  },
  "nbformat": 4,
  "nbformat_minor": 0
}